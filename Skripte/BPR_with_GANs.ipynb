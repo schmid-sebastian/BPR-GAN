{
 "cells": [
  {
   "cell_type": "markdown",
   "metadata": {},
   "source": [
    "# Imports"
   ]
  },
  {
   "cell_type": "code",
   "execution_count": 33,
   "metadata": {},
   "outputs": [],
   "source": [
    "import pm4py\n",
    "import pandas as pd\n",
    "import numpy as np\n",
    "from pm4py.objects.conversion.log import converter as log_converter\n",
    "from matplotlib import pyplot as plt\n",
    "\n",
    "from keras.models import load_model\n",
    "from keras.models import Sequential\n",
    "from keras.layers import LSTM, Dense, Dropout, Reshape, GaussianNoise, LeakyReLU\n",
    "from keras.utils.vis_utils import plot_model\n",
    "from keras.callbacks import EarlyStopping, ModelCheckpoint\n",
    "from keras.optimizers import Adam\n",
    "from sklearn.model_selection import train_test_split\n",
    "from sklearn.metrics import mean_squared_error\n",
    "from sklearn.preprocessing import MinMaxScaler, OneHotEncoder"
   ]
  },
  {
   "cell_type": "markdown",
   "metadata": {},
   "source": [
    "# Data Preprocessing\n",
    "We load the XES-File and convert it to a pandas DataFrame. We drop irrelevant columns and rename the remaining ones. We make sure that every ID is unique so that identical IDs of different elicitations don't overlap. "
   ]
  },
  {
   "cell_type": "code",
   "execution_count": 2,
   "metadata": {
    "collapsed": true,
    "jupyter": {
     "outputs_hidden": true
    }
   },
   "outputs": [
    {
     "data": {
      "application/vnd.jupyter.widget-view+json": {
       "model_id": "4d785d4b21a6441899d08509dc092af7",
       "version_major": 2,
       "version_minor": 0
      },
      "text/plain": [
       "HBox(children=(FloatProgress(value=0.0, description='parsing log, completed traces :: ', max=25.0, style=Progr…"
      ]
     },
     "metadata": {},
     "output_type": "display_data"
    },
    {
     "name": "stdout",
     "output_type": "stream",
     "text": [
      "\n"
     ]
    },
    {
     "data": {
      "application/vnd.jupyter.widget-view+json": {
       "model_id": "0124a1d12ef04ccb95c2a80c1b03242b",
       "version_major": 2,
       "version_minor": 0
      },
      "text/plain": [
       "HBox(children=(FloatProgress(value=0.0, description='parsing log, completed traces :: ', max=10.0, style=Progr…"
      ]
     },
     "metadata": {},
     "output_type": "display_data"
    },
    {
     "name": "stdout",
     "output_type": "stream",
     "text": [
      "\n"
     ]
    },
    {
     "data": {
      "application/vnd.jupyter.widget-view+json": {
       "model_id": "02b3b27ecb9c4c9b84de9f9977410f6a",
       "version_major": 2,
       "version_minor": 0
      },
      "text/plain": [
       "HBox(children=(FloatProgress(value=0.0, description='parsing log, completed traces :: ', max=18.0, style=Progr…"
      ]
     },
     "metadata": {},
     "output_type": "display_data"
    },
    {
     "name": "stdout",
     "output_type": "stream",
     "text": [
      "\n"
     ]
    },
    {
     "data": {
      "application/vnd.jupyter.widget-view+json": {
       "model_id": "be1656b9279f4f2f9814e42ddb5cd8c9",
       "version_major": 2,
       "version_minor": 0
      },
      "text/plain": [
       "HBox(children=(FloatProgress(value=0.0, description='parsing log, completed traces :: ', max=7.0, style=Progre…"
      ]
     },
     "metadata": {},
     "output_type": "display_data"
    },
    {
     "name": "stdout",
     "output_type": "stream",
     "text": [
      "\n"
     ]
    },
    {
     "data": {
      "application/vnd.jupyter.widget-view+json": {
       "model_id": "c56cfcfb493b41a4898843580e8ca481",
       "version_major": 2,
       "version_minor": 0
      },
      "text/plain": [
       "HBox(children=(FloatProgress(value=0.0, description='parsing log, completed traces :: ', max=43.0, style=Progr…"
      ]
     },
     "metadata": {},
     "output_type": "display_data"
    },
    {
     "name": "stdout",
     "output_type": "stream",
     "text": [
      "\n"
     ]
    },
    {
     "data": {
      "application/vnd.jupyter.widget-view+json": {
       "model_id": "ab880ae5a9b24da2b379a64a1f37808b",
       "version_major": 2,
       "version_minor": 0
      },
      "text/plain": [
       "HBox(children=(FloatProgress(value=0.0, description='parsing log, completed traces :: ', max=18.0, style=Progr…"
      ]
     },
     "metadata": {},
     "output_type": "display_data"
    },
    {
     "name": "stdout",
     "output_type": "stream",
     "text": [
      "\n"
     ]
    },
    {
     "data": {
      "application/vnd.jupyter.widget-view+json": {
       "model_id": "c9b55da277594f1a93cf652a680a76b4",
       "version_major": 2,
       "version_minor": 0
      },
      "text/plain": [
       "HBox(children=(FloatProgress(value=0.0, description='parsing log, completed traces :: ', max=21.0, style=Progr…"
      ]
     },
     "metadata": {},
     "output_type": "display_data"
    },
    {
     "name": "stdout",
     "output_type": "stream",
     "text": [
      "\n"
     ]
    },
    {
     "data": {
      "application/vnd.jupyter.widget-view+json": {
       "model_id": "a31e329253e54aa3a1d91517753c2915",
       "version_major": 2,
       "version_minor": 0
      },
      "text/plain": [
       "HBox(children=(FloatProgress(value=0.0, description='parsing log, completed traces :: ', max=6.0, style=Progre…"
      ]
     },
     "metadata": {},
     "output_type": "display_data"
    },
    {
     "name": "stdout",
     "output_type": "stream",
     "text": [
      "\n"
     ]
    }
   ],
   "source": [
    "def load_data(file_names):\n",
    "    \"\"\"Loads the event logs provided in file_names,\n",
    "    adjusts the column names and concats them to one DataFrame.\"\"\"\n",
    "    df_total = pd.DataFrame()\n",
    "    id_count = 0\n",
    "    for file in file_names:\n",
    "        xes_file = pm4py.read_xes('../Daten/Activities of daily living of several individuals/' + file)\n",
    "        file_as_df = log_converter.apply(xes_file, variant=log_converter.Variants.TO_DATA_FRAME)\n",
    "        file_as_df = file_as_df[['concept:name', 'lifecycle:transition', 'time:timestamp', 'case:concept:name']]\n",
    "        file_as_df.columns = ['action', 'status', 'time', 'id']\n",
    "        for i in list(file_as_df.id.unique()):\n",
    "            file_as_df.loc[file_as_df['id'] == i, 'id'] = id_count\n",
    "            id_count += 1\n",
    "        df_total = df_total.append(file_as_df)\n",
    "    return df_total\n",
    "\n",
    "file_names = ['activitylog_uci_detailed_labour.xes',\n",
    "              'activitylog_uci_detailed_weekends.xes',\n",
    "              'edited_hh102_labour.xes',\n",
    "              'edited_hh102_weekends.xes',\n",
    "              'edited_hh104_labour.xes',\n",
    "              'edited_hh104_weekends.xes',\n",
    "              'edited_hh110_labour.xes',\n",
    "              'edited_hh110_weekends.xes']\n",
    "\n",
    "df = load_data(file_names)"
   ]
  },
  {
   "cell_type": "markdown",
   "metadata": {},
   "source": [
    "We parse the correct datatype for each column and transform the timestamp column to a duration in seconds. Afterwards, the activities are aggregated so that there exist no synonymous naming conventions (e.g. compare watchingtv and watchtv)"
   ]
  },
  {
   "cell_type": "code",
   "execution_count": 3,
   "metadata": {},
   "outputs": [],
   "source": [
    "def convert_datatypes(df, datatypes, time_column):\n",
    "    \"\"\"Converts the columns of a dataframe to the\n",
    "    types specified in datatypes. Also transforms\n",
    "    the time_column to a datetime type.\"\"\"\n",
    "    df[time_column] = pd.to_datetime(df[time_column], \n",
    "                                     utc = True)\n",
    "    df = df.astype(datatypes)\n",
    "    return df\n",
    "\n",
    "def convert_timestamps_to_duration(df):\n",
    "    \"\"\"Converts the start and completion timestamps\n",
    "    of an event to one duration in seconds.\"\"\"\n",
    "    time_differences = []\n",
    "    for i in range(1, len(df), 2):\n",
    "        start = df.iloc[i-1, 2]\n",
    "        complete = df.iloc[i, 2]\n",
    "        duration = (complete - start).total_seconds()\n",
    "        time_differences.extend([duration, duration])\n",
    "    df['duration'] = time_differences\n",
    "    df = df.iloc[::2, [0,3,4]].reset_index(drop=True)\n",
    "    return df\n",
    "\n",
    "def aggregate_activities(row):\n",
    "    \"\"\"Aggregates activities like e.g. prepareDinner,\n",
    "    prepareBreakfast, prepareLunch to a single activity\n",
    "    mealpreparation.\"\"\"\n",
    "    agg_dict = {'grooming' : 'groom',\n",
    "                'watchingtv' : 'watchtv',\n",
    "                'sleeping' : 'sleep',\n",
    "                'prepareBreakfast' : 'mealpreparation',\n",
    "                'prepareLunch' : 'mealpreparation',\n",
    "                'prepareDinner' : 'mealpreparation',\n",
    "                'mealpreperation' : 'mealpreparation',\n",
    "                'eatingBreakfast' : 'eatingdrinking',\n",
    "                'eatingLunch' : 'eatingdrinking',\n",
    "                'eatingDinner' : 'eatingdrinking',\n",
    "                'drink' : 'eatingdrinking',\n",
    "                'drinking' : 'eatingdrinking'}\n",
    "    if row['action'] in agg_dict.keys():\n",
    "        return agg_dict[row['action']]\n",
    "    else:\n",
    "        return row['action']\n",
    "\n",
    "\n",
    "datatypes = {'action' : 'category',\n",
    "             'status' : 'category',\n",
    "             'id' : 'category'}\n",
    "df = convert_datatypes(df, datatypes, 'time')\n",
    "df = convert_timestamps_to_duration(df)\n",
    "df['action'] = df.apply(aggregate_activities, axis=1)"
   ]
  },
  {
   "cell_type": "markdown",
   "metadata": {},
   "source": [
    "# Data Exploration\n",
    "We apply some basic data exploration techniques to gain a deeper understanding for the dataset"
   ]
  },
  {
   "cell_type": "code",
   "execution_count": 6,
   "metadata": {},
   "outputs": [
    {
     "data": {
      "text/html": [
       "<div>\n",
       "<style scoped>\n",
       "    .dataframe tbody tr th:only-of-type {\n",
       "        vertical-align: middle;\n",
       "    }\n",
       "\n",
       "    .dataframe tbody tr th {\n",
       "        vertical-align: top;\n",
       "    }\n",
       "\n",
       "    .dataframe thead th {\n",
       "        text-align: right;\n",
       "    }\n",
       "</style>\n",
       "<table border=\"1\" class=\"dataframe\">\n",
       "  <thead>\n",
       "    <tr style=\"text-align: right;\">\n",
       "      <th></th>\n",
       "      <th>action</th>\n",
       "      <th>id</th>\n",
       "      <th>duration</th>\n",
       "    </tr>\n",
       "  </thead>\n",
       "  <tbody>\n",
       "    <tr>\n",
       "      <th>0</th>\n",
       "      <td>Start</td>\n",
       "      <td>0</td>\n",
       "      <td>0.0</td>\n",
       "    </tr>\n",
       "    <tr>\n",
       "      <th>1</th>\n",
       "      <td>washing</td>\n",
       "      <td>0</td>\n",
       "      <td>94.0</td>\n",
       "    </tr>\n",
       "    <tr>\n",
       "      <th>2</th>\n",
       "      <td>watchtv</td>\n",
       "      <td>0</td>\n",
       "      <td>3703.0</td>\n",
       "    </tr>\n",
       "    <tr>\n",
       "      <th>3</th>\n",
       "      <td>toilet</td>\n",
       "      <td>0</td>\n",
       "      <td>3.0</td>\n",
       "    </tr>\n",
       "    <tr>\n",
       "      <th>4</th>\n",
       "      <td>washing</td>\n",
       "      <td>0</td>\n",
       "      <td>8.0</td>\n",
       "    </tr>\n",
       "    <tr>\n",
       "      <th>5</th>\n",
       "      <td>toilet</td>\n",
       "      <td>0</td>\n",
       "      <td>18.0</td>\n",
       "    </tr>\n",
       "    <tr>\n",
       "      <th>6</th>\n",
       "      <td>sleep</td>\n",
       "      <td>0</td>\n",
       "      <td>27370.0</td>\n",
       "    </tr>\n",
       "    <tr>\n",
       "      <th>7</th>\n",
       "      <td>toilet</td>\n",
       "      <td>0</td>\n",
       "      <td>229.0</td>\n",
       "    </tr>\n",
       "    <tr>\n",
       "      <th>8</th>\n",
       "      <td>mealpreparation</td>\n",
       "      <td>0</td>\n",
       "      <td>480.0</td>\n",
       "    </tr>\n",
       "    <tr>\n",
       "      <th>9</th>\n",
       "      <td>eatingdrinking</td>\n",
       "      <td>0</td>\n",
       "      <td>176.0</td>\n",
       "    </tr>\n",
       "  </tbody>\n",
       "</table>\n",
       "</div>"
      ],
      "text/plain": [
       "            action id  duration\n",
       "0            Start  0       0.0\n",
       "1          washing  0      94.0\n",
       "2          watchtv  0    3703.0\n",
       "3           toilet  0       3.0\n",
       "4          washing  0       8.0\n",
       "5           toilet  0      18.0\n",
       "6            sleep  0   27370.0\n",
       "7           toilet  0     229.0\n",
       "8  mealpreparation  0     480.0\n",
       "9   eatingdrinking  0     176.0"
      ]
     },
     "execution_count": 6,
     "metadata": {},
     "output_type": "execute_result"
    }
   ],
   "source": [
    "df.head(10)"
   ]
  },
  {
   "cell_type": "markdown",
   "metadata": {},
   "source": [
    "Amount of rows, amount of different activities and average duration"
   ]
  },
  {
   "cell_type": "code",
   "execution_count": 7,
   "metadata": {},
   "outputs": [
    {
     "name": "stdout",
     "output_type": "stream",
     "text": [
      "Length of dataset: 5569 rows\n",
      "Different unique activities: 22\n",
      "Different unique IDs: 148\n",
      "Average duration of a single activity: 1893 seconds\n"
     ]
    }
   ],
   "source": [
    "print('Length of dataset:', len(df), 'rows')\n",
    "print('Different unique activities:', len(df.action.unique()))\n",
    "print('Different unique IDs:', len(df.id.unique()))\n",
    "print('Average duration of a single activity:', int(df.duration.mean()), 'seconds')"
   ]
  },
  {
   "cell_type": "code",
   "execution_count": 8,
   "metadata": {},
   "outputs": [
    {
     "data": {
      "text/html": [
       "<div>\n",
       "<style scoped>\n",
       "    .dataframe tbody tr th:only-of-type {\n",
       "        vertical-align: middle;\n",
       "    }\n",
       "\n",
       "    .dataframe tbody tr th {\n",
       "        vertical-align: top;\n",
       "    }\n",
       "\n",
       "    .dataframe thead th {\n",
       "        text-align: right;\n",
       "    }\n",
       "</style>\n",
       "<table border=\"1\" class=\"dataframe\">\n",
       "  <thead>\n",
       "    <tr style=\"text-align: right;\">\n",
       "      <th></th>\n",
       "      <th>action</th>\n",
       "      <th>Average Duration</th>\n",
       "    </tr>\n",
       "  </thead>\n",
       "  <tbody>\n",
       "    <tr>\n",
       "      <th>0</th>\n",
       "      <td>Start</td>\n",
       "      <td>0.000000</td>\n",
       "    </tr>\n",
       "    <tr>\n",
       "      <th>1</th>\n",
       "      <td>washing</td>\n",
       "      <td>146.596386</td>\n",
       "    </tr>\n",
       "    <tr>\n",
       "      <th>2</th>\n",
       "      <td>medication</td>\n",
       "      <td>265.276498</td>\n",
       "    </tr>\n",
       "    <tr>\n",
       "      <th>3</th>\n",
       "      <td>groom</td>\n",
       "      <td>313.263804</td>\n",
       "    </tr>\n",
       "    <tr>\n",
       "      <th>4</th>\n",
       "      <td>dress</td>\n",
       "      <td>363.564103</td>\n",
       "    </tr>\n",
       "    <tr>\n",
       "      <th>5</th>\n",
       "      <td>toilet</td>\n",
       "      <td>364.310219</td>\n",
       "    </tr>\n",
       "    <tr>\n",
       "      <th>6</th>\n",
       "      <td>shower</td>\n",
       "      <td>398.000000</td>\n",
       "    </tr>\n",
       "    <tr>\n",
       "      <th>7</th>\n",
       "      <td>cleaning</td>\n",
       "      <td>432.487179</td>\n",
       "    </tr>\n",
       "    <tr>\n",
       "      <th>8</th>\n",
       "      <td>bathe</td>\n",
       "      <td>467.760000</td>\n",
       "    </tr>\n",
       "    <tr>\n",
       "      <th>9</th>\n",
       "      <td>End</td>\n",
       "      <td>568.661972</td>\n",
       "    </tr>\n",
       "    <tr>\n",
       "      <th>10</th>\n",
       "      <td>mealpreparation</td>\n",
       "      <td>604.880702</td>\n",
       "    </tr>\n",
       "    <tr>\n",
       "      <th>11</th>\n",
       "      <td>eatingdrinking</td>\n",
       "      <td>683.732877</td>\n",
       "    </tr>\n",
       "    <tr>\n",
       "      <th>12</th>\n",
       "      <td>personalhygiene</td>\n",
       "      <td>778.693950</td>\n",
       "    </tr>\n",
       "    <tr>\n",
       "      <th>13</th>\n",
       "      <td>snack</td>\n",
       "      <td>796.556818</td>\n",
       "    </tr>\n",
       "    <tr>\n",
       "      <th>14</th>\n",
       "      <td>read</td>\n",
       "      <td>1183.133333</td>\n",
       "    </tr>\n",
       "    <tr>\n",
       "      <th>15</th>\n",
       "      <td>phone</td>\n",
       "      <td>1249.722222</td>\n",
       "    </tr>\n",
       "    <tr>\n",
       "      <th>16</th>\n",
       "      <td>work</td>\n",
       "      <td>1254.124717</td>\n",
       "    </tr>\n",
       "    <tr>\n",
       "      <th>17</th>\n",
       "      <td>entertainguests</td>\n",
       "      <td>1388.000000</td>\n",
       "    </tr>\n",
       "    <tr>\n",
       "      <th>18</th>\n",
       "      <td>watchtv</td>\n",
       "      <td>3308.636364</td>\n",
       "    </tr>\n",
       "    <tr>\n",
       "      <th>19</th>\n",
       "      <td>relax</td>\n",
       "      <td>4004.635036</td>\n",
       "    </tr>\n",
       "    <tr>\n",
       "      <th>20</th>\n",
       "      <td>outdoors</td>\n",
       "      <td>4608.122642</td>\n",
       "    </tr>\n",
       "    <tr>\n",
       "      <th>21</th>\n",
       "      <td>sleep</td>\n",
       "      <td>6195.442029</td>\n",
       "    </tr>\n",
       "  </tbody>\n",
       "</table>\n",
       "</div>"
      ],
      "text/plain": [
       "             action  Average Duration\n",
       "0             Start          0.000000\n",
       "1           washing        146.596386\n",
       "2        medication        265.276498\n",
       "3             groom        313.263804\n",
       "4             dress        363.564103\n",
       "5            toilet        364.310219\n",
       "6            shower        398.000000\n",
       "7          cleaning        432.487179\n",
       "8             bathe        467.760000\n",
       "9               End        568.661972\n",
       "10  mealpreparation        604.880702\n",
       "11   eatingdrinking        683.732877\n",
       "12  personalhygiene        778.693950\n",
       "13            snack        796.556818\n",
       "14             read       1183.133333\n",
       "15            phone       1249.722222\n",
       "16             work       1254.124717\n",
       "17  entertainguests       1388.000000\n",
       "18          watchtv       3308.636364\n",
       "19            relax       4004.635036\n",
       "20         outdoors       4608.122642\n",
       "21            sleep       6195.442029"
      ]
     },
     "execution_count": 8,
     "metadata": {},
     "output_type": "execute_result"
    }
   ],
   "source": [
    "temp = pd.DataFrame(df.groupby(by='action')['duration'].mean().sort_values())\n",
    "temp['action'] = temp.index\n",
    "temp = temp[['action', 'duration']]\n",
    "temp.columns = ['action', 'Average Duration']\n",
    "temp = temp.reset_index(drop=True)\n",
    "temp"
   ]
  },
  {
   "cell_type": "markdown",
   "metadata": {},
   "source": [
    "Average durations grouped by every activity"
   ]
  },
  {
   "cell_type": "code",
   "execution_count": 9,
   "metadata": {},
   "outputs": [
    {
     "data": {
      "text/plain": [
       "<matplotlib.axes._subplots.AxesSubplot at 0x1bb236bbd30>"
      ]
     },
     "execution_count": 9,
     "metadata": {},
     "output_type": "execute_result"
    },
    {
     "data": {
      "image/png": "[encoded data removed]",
      "text/plain": [
       "<Figure size 432x288 with 1 Axes>"
      ]
     },
     "metadata": {
      "needs_background": "light"
     },
     "output_type": "display_data"
    }
   ],
   "source": [
    "temp.plot.bar(x='action', y='Average Duration')"
   ]
  },
  {
   "cell_type": "code",
   "execution_count": 10,
   "metadata": {},
   "outputs": [
    {
     "data": {
      "text/html": [
       "<div>\n",
       "<style scoped>\n",
       "    .dataframe tbody tr th:only-of-type {\n",
       "        vertical-align: middle;\n",
       "    }\n",
       "\n",
       "    .dataframe tbody tr th {\n",
       "        vertical-align: top;\n",
       "    }\n",
       "\n",
       "    .dataframe thead th {\n",
       "        text-align: right;\n",
       "    }\n",
       "</style>\n",
       "<table border=\"1\" class=\"dataframe\">\n",
       "  <thead>\n",
       "    <tr style=\"text-align: right;\">\n",
       "      <th></th>\n",
       "      <th>action</th>\n",
       "      <th>id</th>\n",
       "      <th>duration</th>\n",
       "    </tr>\n",
       "  </thead>\n",
       "  <tbody>\n",
       "    <tr>\n",
       "      <th>424</th>\n",
       "      <td>End</td>\n",
       "      <td>13</td>\n",
       "      <td>80750.0</td>\n",
       "    </tr>\n",
       "  </tbody>\n",
       "</table>\n",
       "</div>"
      ],
      "text/plain": [
       "    action  id  duration\n",
       "424    End  13   80750.0"
      ]
     },
     "execution_count": 10,
     "metadata": {},
     "output_type": "execute_result"
    }
   ],
   "source": [
    "df[(df['duration'] > 0) & (df['action'] == 'End')]"
   ]
  },
  {
   "cell_type": "markdown",
   "metadata": {},
   "source": [
    "Apart from one row the activity start and end always have the duration 0. Since the single row with a longer duration takes more than 22 hours, we assume it is a error in the data and will therefore be set to zero."
   ]
  },
  {
   "cell_type": "code",
   "execution_count": 11,
   "metadata": {},
   "outputs": [],
   "source": [
    "df.loc[(df['duration'] > 0) & (df['action'] == 'End'), 'duration'] = 0.0"
   ]
  },
  {
   "cell_type": "markdown",
   "metadata": {},
   "source": [
    "We explore how many actions a ID contains on average"
   ]
  },
  {
   "cell_type": "code",
   "execution_count": 12,
   "metadata": {},
   "outputs": [
    {
     "data": {
      "text/plain": [
       "37.62837837837838"
      ]
     },
     "execution_count": 12,
     "metadata": {},
     "output_type": "execute_result"
    }
   ],
   "source": [
    "df.groupby('id')['action'].agg('count').mean()"
   ]
  },
  {
   "cell_type": "code",
   "execution_count": 13,
   "metadata": {},
   "outputs": [
    {
     "data": {
      "text/plain": [
       "79871.0"
      ]
     },
     "execution_count": 13,
     "metadata": {},
     "output_type": "execute_result"
    }
   ],
   "source": [
    "df[df['id'] == 0].duration.sum()"
   ]
  },
  {
   "cell_type": "code",
   "execution_count": 14,
   "metadata": {},
   "outputs": [
    {
     "data": {
      "text/plain": [
       "19.639491366366368"
      ]
     },
     "execution_count": 14,
     "metadata": {},
     "output_type": "execute_result"
    }
   ],
   "source": [
    "df.groupby('id')['duration'].agg('sum').mean()/60/60"
   ]
  },
  {
   "cell_type": "code",
   "execution_count": 15,
   "metadata": {},
   "outputs": [
    {
     "data": {
      "text/plain": [
       "<matplotlib.axes._subplots.AxesSubplot at 0x1bb2349cd68>"
      ]
     },
     "execution_count": 15,
     "metadata": {},
     "output_type": "execute_result"
    },
    {
     "data": {
      "image/png": "[encoded data removed]",
      "text/plain": [
       "<Figure size 432x288 with 1 Axes>"
      ]
     },
     "metadata": {
      "needs_background": "light"
     },
     "output_type": "display_data"
    }
   ],
   "source": [
    "temp = pd.DataFrame(df.groupby('action')['action'].count().sort_values())\n",
    "temp.columns = ['Total Occurence']\n",
    "temp['action'] = temp.index\n",
    "temp.columns = ['Total Occurence', 'action']\n",
    "temp = temp[['action', 'Total Occurence']]\n",
    "temp = temp.reset_index(drop=True)\n",
    "temp.plot.bar(x='action', y='Total Occurence')"
   ]
  },
  {
   "cell_type": "code",
   "execution_count": 10,
   "metadata": {},
   "outputs": [],
   "source": [
    "temp.to_excel('../Daten/total_occurence_per_action.xlsx', index=False)"
   ]
  },
  {
   "cell_type": "markdown",
   "metadata": {},
   "source": [
    "# Variable Transformation\n",
    "We now transform our variables: We choose the following transformation methods:\n",
    "- action : OneHotEncoder\n",
    "- id : OneHotEncoder\n",
    "- all variables (after encoding) : MinMaxScaler"
   ]
  },
  {
   "cell_type": "code",
   "execution_count": 16,
   "metadata": {},
   "outputs": [],
   "source": [
    "def fit_encoders(df):\n",
    "    \"\"\"Fits the OneHotEncoder on all categorical values.\"\"\"\n",
    "    encoder_action = OneHotEncoder(sparse=False)\n",
    "    encoder_action.fit(df.action.to_numpy().reshape(-1,1))\n",
    "    encoder_id = OneHotEncoder(sparse=False)\n",
    "    encoder_id.fit(df.id.to_numpy().reshape(-1,1))\n",
    "    return encoder_action, encoder_id\n",
    "\n",
    "def fit_scaler(df):\n",
    "    \"\"\"Fits the MinMaxScaler on all numerical values.\"\"\"\n",
    "    scaler_duration = MinMaxScaler(feature_range=(-1, 1))\n",
    "    scaler_duration.fit(df.duration.to_numpy().reshape(-1,1))\n",
    "    return scaler_duration\n",
    "\n",
    "def transform_variables(df):\n",
    "    \"\"\"Encodes the categorical variables and normalizes\n",
    "    the numerical variables to a range between 0 and 1.\"\"\"\n",
    "    encoder_action, encoder_id = fit_encoders(df)\n",
    "    scaler_duration = fit_scaler(df)\n",
    "    id_transformed = encoder_id.transform(df.id.to_numpy().reshape(-1,1))\n",
    "    action_transformed = encoder_action.transform(df.action.to_numpy().reshape(-1,1))\n",
    "    duration_transformed = scaler_duration.transform(df.duration.to_numpy().reshape(-1,1))\n",
    "    transformed = np.hstack((id_transformed, action_transformed, duration_transformed))\n",
    "    return transformed\n",
    "\n",
    "data_transformed = transform_variables(df)"
   ]
  },
  {
   "cell_type": "code",
   "execution_count": 18,
   "metadata": {},
   "outputs": [
    {
     "data": {
      "text/plain": [
       "(5569, 171)"
      ]
     },
     "execution_count": 18,
     "metadata": {},
     "output_type": "execute_result"
    }
   ],
   "source": [
    "data_transformed.shape"
   ]
  },
  {
   "cell_type": "markdown",
   "metadata": {},
   "source": [
    "# Creation of dataset\n",
    "After transforming our variables, we now reshape our input data for the LSTM network. This means, for each id of the dataframe we pick 5 Timesteps in a sequence as input and define the 6th timestep as the label for the preceding timesteps. We repeat this step until we reached the last 6 timesteps"
   ]
  },
  {
   "cell_type": "code",
   "execution_count": 19,
   "metadata": {},
   "outputs": [],
   "source": [
    "def split_data_into_sequences(data, sequence_length):\n",
    "    \"\"\"Splits the provided data into sequences of\n",
    "    length sequence_length.\"\"\"\n",
    "    sequences = []\n",
    "    for i in range(0, data.shape[0]-sequence_length+1):\n",
    "        sequence = data[i : i + sequence_length, :]\n",
    "        sequence = sequence.reshape(1, sequence_length, -1)\n",
    "        sequences.append(sequence)\n",
    "    sequences = np.vstack((sequences))\n",
    "    return sequences\n",
    "\n",
    "sequences = split_data_into_sequences(data_transformed, 20)"
   ]
  },
  {
   "cell_type": "code",
   "execution_count": 20,
   "metadata": {},
   "outputs": [
    {
     "data": {
      "text/plain": [
       "(5550, 20, 171)"
      ]
     },
     "execution_count": 20,
     "metadata": {},
     "output_type": "execute_result"
    }
   ],
   "source": [
    "sequences.shape"
   ]
  },
  {
   "cell_type": "markdown",
   "metadata": {},
   "source": [
    "# Creation of the Generative Adversarial Network\n",
    "We now define the functionalities for creating a GAN. "
   ]
  },
  {
   "cell_type": "code",
   "execution_count": 30,
   "metadata": {},
   "outputs": [],
   "source": [
    "def define_discriminator(data):\n",
    "    \"\"\"Create and compile the discriminator.\"\"\"\n",
    "    discriminator = Sequential()\n",
    "    discriminator.add(GaussianNoise(0.1))\n",
    "    discriminator.add(LSTM(64, input_shape=(data.shape[1], data.shape[2])))\n",
    "    discriminator.add(Dense(1, activation='sigmoid'))\n",
    "    discriminator.compile(loss='binary_crossentropy', optimizer='adam', metrics=['accuracy'])\n",
    "    return discriminator\n",
    "\n",
    "def define_generator(latent_shape):\n",
    "    \"\"\"Create the generator with latent_shape as \n",
    "    input shape.\"\"\"\n",
    "    model = Sequential()\n",
    "    model.add(LSTM(4000, input_shape=latent_shape))\n",
    "    model.add(LeakyReLU())\n",
    "    model.add(Dropout(0.5))\n",
    "    model.add(Dense(3420, activation='tanh'))\n",
    "    model.add(Reshape((20,171)))\n",
    "    return model\n",
    "\n",
    "def define_gan(g_model, d_model):\n",
    "    \"\"\"Define the GAN as a combination of the generator \n",
    "    and discriminator model.\"\"\"\n",
    "    d_model.trainable = False\n",
    "    model = Sequential()\n",
    "    model.add(g_model)\n",
    "    model.add(d_model)\n",
    "    opt = Adam(lr=0.0002, beta_1=0.5)\n",
    "    model.compile(loss='binary_crossentropy', optimizer=opt)\n",
    "    return model\n",
    "\n",
    "def generate_real_samples(dataset, n_samples):\n",
    "    \"\"\"Randomly pick n real samples of our dataset.\"\"\"\n",
    "    indices = np.random.randint(0, dataset.shape[0], n_samples)\n",
    "    x = dataset[indices]\n",
    "    y = np.ones((n_samples, 1))\n",
    "    return x, y\n",
    "\n",
    "def generate_latent_points(n_samples):\n",
    "    \"\"\"Generates n samples in the latent space.\"\"\"\n",
    "    x = np.random.randn(n_samples, 20, 171)\n",
    "    return x\n",
    "\n",
    "def generate_fake_samples(g_model, n_samples):\n",
    "    \"\"\"Generates fake samples with the generator.\"\"\"\n",
    "    x_input = generate_latent_points(n_samples)\n",
    "    x = g_model.predict(x_input)\n",
    "    y = np.zeros((n_samples, 1))\n",
    "    return x, y\n",
    "\n",
    "def train(g_model, d_model, gan_model, dataset, epochs, batch_size):\n",
    "    \"\"\"Trains the generator and discriminator.\"\"\"\n",
    "    batches_per_epoch = int(dataset.shape[0] / batch_size)\n",
    "    half_batch = int(batch_size / 2)\n",
    "    \n",
    "    for epoch in range(epochs):\n",
    "        for batch in range(batches_per_epoch):\n",
    "            x_real, y_real = generate_real_samples(dataset, half_batch)\n",
    "            x_fake, y_fake = generate_fake_samples(g_model, half_batch)\n",
    "            x_discriminator, y_discriminator = np.vstack((x_real, x_fake)), np.vstack((y_real, y_fake))\n",
    "            d_loss, _ = d_model.train_on_batch(x_discriminator, y_discriminator)\n",
    "            x_gan = generate_latent_points(batch_size)\n",
    "            y_gan = np.ones((batch_size, 1))\n",
    "            g_loss = gan_model.train_on_batch(x_gan, y_gan)\n",
    "            monitor_progress(epoch, batch, batches_per_epoch, d_loss, g_loss, dataset,\n",
    "                            g_model, d_model)\n",
    "\n",
    "gen_loss = []\n",
    "disc_loss = []\n",
    "def monitor_progress(epoch, batch, batches_per_epoch, d_loss, g_loss, dataset, g_model, d_model):\n",
    "    \"\"\"Prints out accuracy and loss of the GAN and saves\n",
    "    the model every 10 epochs.\"\"\"\n",
    "    print('>%d, %d/%d, d=%.3f, g=%.3f' % (epoch+1, batch+1, batches_per_epoch, d_loss, g_loss))\n",
    "    gen_loss.append(g_loss)\n",
    "    disc_loss.append(d_loss)\n",
    "    if ((epoch + 1) % 10 == 0):\n",
    "        x_real, y_real = generate_real_samples(dataset, 100)\n",
    "        _, acc_real = d_model.evaluate(x_real, y_real, verbose=0)\n",
    "        x_fake, y_fake = generate_fake_samples(g_model, 100)\n",
    "        _, acc_fake = d_model.evaluate(x_fake, y_fake, verbose=0)\n",
    "        print('>Accuracy real: %.0f%%, fake: %.0f%%' % (acc_real*100, acc_fake*100))\n",
    "        filename = 'model_%03d.h5' % (epoch + 1)\n",
    "        g_model.save('../Models/' + filename)"
   ]
  },
  {
   "cell_type": "code",
   "execution_count": null,
   "metadata": {},
   "outputs": [],
   "source": [
    "# create the discriminator\n",
    "d_model = define_discriminator(sequences)\n",
    "# create the generator\n",
    "g_model = define_generator((20,171))\n",
    "# create the gan\n",
    "gan_model = define_gan(g_model, d_model)\n",
    "# train model\n",
    "train(g_model, d_model, gan_model, sequences, 1000, 256)"
   ]
  },
  {
   "cell_type": "markdown",
   "metadata": {},
   "source": [
    "# Generate synthetic dataset"
   ]
  },
  {
   "cell_type": "code",
   "execution_count": 52,
   "metadata": {},
   "outputs": [],
   "source": [
    "def translate_result(generated):\n",
    "    \"\"\"Decodes the resulting vector into a human readable format.\"\"\"\n",
    "    encoder_action, encoder_id = fit_encoders(df)\n",
    "    scaler_duration = fit_scaler(df)\n",
    "    res = []\n",
    "    for i in range(generated.shape[0]):\n",
    "        for j in range(generated.shape[1]):\n",
    "            temp = generated[i,j]\n",
    "            id_temp = temp[0:148]\n",
    "            action_temp = temp[148:148+22]\n",
    "            duration_temp = temp[-1]\n",
    "            id_inverse = encoder_id.inverse_transform(id_temp.reshape(1,-1))[0][0]\n",
    "            action_inverse = encoder_action.inverse_transform(action_temp.reshape(1,-1))[0][0]\n",
    "            duration_inverse = scaler_duration.inverse_transform(duration_temp.reshape(1,-1))[0][0]\n",
    "            res.append([id_inverse, action_inverse, duration_inverse])\n",
    "    res = pd.DataFrame(res, columns = ['id', 'action', 'duration']).sort_values(by='id')\n",
    "    return res\n",
    "\n",
    "def drop_consecutive_duplicates(data):\n",
    "    \"\"\"Drops consecutive duplicates and adds their duration up.\"\"\"\n",
    "    indices = [0]\n",
    "    for i in range(1, len(data)):\n",
    "        if (data.iloc[i, [0,1]] == data.iloc[i-1, [0,1]]).all():\n",
    "            continue\n",
    "        else:\n",
    "            indices.append(i)\n",
    "    return data.iloc[indices].reset_index(drop=True)\n",
    "\n",
    "def correct_start_end(data):\n",
    "    \"\"\"Makes sure that the start and end activitiy are at the right position\n",
    "    and also corrects their duration.\"\"\"\n",
    "    new = pd.DataFrame(columns = ['id', 'action', 'duration'])\n",
    "    for i in data.id.unique():\n",
    "        start = pd.DataFrame([[i, 'Start', 0.0]], columns = ['id', 'action', 'duration'])\n",
    "        end = pd.DataFrame([[i, 'End', 0.0]], columns = ['id', 'action', 'duration'])\n",
    "        temp = data[data['id'] == i]\n",
    "        temp = temp[~temp['action'].isin(['Start', 'End'])]\n",
    "        correct = start.append(temp).append(end)\n",
    "        new = new.append(correct).reset_index(drop=True)\n",
    "    return drop_consecutive_duplicates(new)"
   ]
  },
  {
   "cell_type": "code",
   "execution_count": 51,
   "metadata": {},
   "outputs": [
    {
     "name": "stdout",
     "output_type": "stream",
     "text": [
      "WARNING:tensorflow:No training configuration found in the save file, so the model was *not* compiled. Compile it manually.\n"
     ]
    }
   ],
   "source": [
    "# load model\n",
    "model = load_model('../Models/model_040.h5')\n",
    "# generate images\n",
    "latent_points = generate_latent_points(5)\n",
    "# generate images\n",
    "X = model.predict(latent_points)"
   ]
  },
  {
   "cell_type": "code",
   "execution_count": 53,
   "metadata": {},
   "outputs": [],
   "source": [
    "translated = translate_result(X)\n",
    "translated = drop_consecutive_duplicates(translated)\n",
    "translated = correct_start_end(translated)"
   ]
  },
  {
   "cell_type": "code",
   "execution_count": 70,
   "metadata": {},
   "outputs": [
    {
     "data": {
      "text/html": [
       "<div>\n",
       "<style scoped>\n",
       "    .dataframe tbody tr th:only-of-type {\n",
       "        vertical-align: middle;\n",
       "    }\n",
       "\n",
       "    .dataframe tbody tr th {\n",
       "        vertical-align: top;\n",
       "    }\n",
       "\n",
       "    .dataframe thead th {\n",
       "        text-align: right;\n",
       "    }\n",
       "</style>\n",
       "<table border=\"1\" class=\"dataframe\">\n",
       "  <thead>\n",
       "    <tr style=\"text-align: right;\">\n",
       "      <th></th>\n",
       "      <th>id</th>\n",
       "      <th>action</th>\n",
       "      <th>duration</th>\n",
       "    </tr>\n",
       "  </thead>\n",
       "  <tbody>\n",
       "    <tr>\n",
       "      <th>0</th>\n",
       "      <td>121</td>\n",
       "      <td>Start</td>\n",
       "      <td>0.0</td>\n",
       "    </tr>\n",
       "    <tr>\n",
       "      <th>1</th>\n",
       "      <td>121</td>\n",
       "      <td>sleep</td>\n",
       "      <td>217.0</td>\n",
       "    </tr>\n",
       "    <tr>\n",
       "      <th>2</th>\n",
       "      <td>121</td>\n",
       "      <td>toilet</td>\n",
       "      <td>5861.0</td>\n",
       "    </tr>\n",
       "    <tr>\n",
       "      <th>3</th>\n",
       "      <td>121</td>\n",
       "      <td>groom</td>\n",
       "      <td>9082.0</td>\n",
       "    </tr>\n",
       "    <tr>\n",
       "      <th>4</th>\n",
       "      <td>121</td>\n",
       "      <td>work</td>\n",
       "      <td>5118.0</td>\n",
       "    </tr>\n",
       "    <tr>\n",
       "      <th>5</th>\n",
       "      <td>121</td>\n",
       "      <td>sleep</td>\n",
       "      <td>255.0</td>\n",
       "    </tr>\n",
       "    <tr>\n",
       "      <th>6</th>\n",
       "      <td>121</td>\n",
       "      <td>relax</td>\n",
       "      <td>9744.0</td>\n",
       "    </tr>\n",
       "    <tr>\n",
       "      <th>7</th>\n",
       "      <td>121</td>\n",
       "      <td>watchtv</td>\n",
       "      <td>5447.0</td>\n",
       "    </tr>\n",
       "    <tr>\n",
       "      <th>8</th>\n",
       "      <td>121</td>\n",
       "      <td>personalhygiene</td>\n",
       "      <td>276.0</td>\n",
       "    </tr>\n",
       "    <tr>\n",
       "      <th>9</th>\n",
       "      <td>121</td>\n",
       "      <td>work</td>\n",
       "      <td>5575.0</td>\n",
       "    </tr>\n",
       "    <tr>\n",
       "      <th>10</th>\n",
       "      <td>121</td>\n",
       "      <td>personalhygiene</td>\n",
       "      <td>8145.0</td>\n",
       "    </tr>\n",
       "    <tr>\n",
       "      <th>11</th>\n",
       "      <td>121</td>\n",
       "      <td>dress</td>\n",
       "      <td>4616.0</td>\n",
       "    </tr>\n",
       "    <tr>\n",
       "      <th>12</th>\n",
       "      <td>121</td>\n",
       "      <td>toilet</td>\n",
       "      <td>9094.0</td>\n",
       "    </tr>\n",
       "    <tr>\n",
       "      <th>13</th>\n",
       "      <td>121</td>\n",
       "      <td>outdoors</td>\n",
       "      <td>5998.0</td>\n",
       "    </tr>\n",
       "    <tr>\n",
       "      <th>14</th>\n",
       "      <td>121</td>\n",
       "      <td>read</td>\n",
       "      <td>5023.0</td>\n",
       "    </tr>\n",
       "    <tr>\n",
       "      <th>15</th>\n",
       "      <td>121</td>\n",
       "      <td>relax</td>\n",
       "      <td>8816.0</td>\n",
       "    </tr>\n",
       "    <tr>\n",
       "      <th>16</th>\n",
       "      <td>121</td>\n",
       "      <td>End</td>\n",
       "      <td>0.0</td>\n",
       "    </tr>\n",
       "  </tbody>\n",
       "</table>\n",
       "</div>"
      ],
      "text/plain": [
       "     id           action  duration\n",
       "0   121            Start       0.0\n",
       "1   121            sleep     217.0\n",
       "2   121           toilet    5861.0\n",
       "3   121            groom    9082.0\n",
       "4   121             work    5118.0\n",
       "5   121            sleep     255.0\n",
       "6   121            relax    9744.0\n",
       "7   121          watchtv    5447.0\n",
       "8   121  personalhygiene     276.0\n",
       "9   121             work    5575.0\n",
       "10  121  personalhygiene    8145.0\n",
       "11  121            dress    4616.0\n",
       "12  121           toilet    9094.0\n",
       "13  121         outdoors    5998.0\n",
       "14  121             read    5023.0\n",
       "15  121            relax    8816.0\n",
       "16  121              End       0.0"
      ]
     },
     "execution_count": 70,
     "metadata": {},
     "output_type": "execute_result"
    }
   ],
   "source": [
    "translated.head(16)"
   ]
  },
  {
   "cell_type": "code",
   "execution_count": 61,
   "metadata": {},
   "outputs": [
    {
     "data": {
      "image/png": "[encoded data removed]",
      "text/plain": [
       "<Figure size 432x288 with 1 Axes>"
      ]
     },
     "metadata": {
      "needs_background": "light"
     },
     "output_type": "display_data"
    }
   ],
   "source": [
    "plt.plot(gen_loss[:1000], label='Generator Loss')\n",
    "plt.plot(disc_loss[:1000], label='Discriminator Loss')\n",
    "plt.xlabel('Number of Iterations')\n",
    "plt.ylabel('Training Loss')\n",
    "plt.legend()\n",
    "plt.savefig('large_model_loss.png')\n",
    "plt.show()"
   ]
  },
  {
   "cell_type": "code",
   "execution_count": null,
   "metadata": {},
   "outputs": [],
   "source": []
  }
 ],
 "metadata": {
  "kernelspec": {
   "display_name": "Python 3",
   "language": "python",
   "name": "python3"
  },
  "language_info": {
   "codemirror_mode": {
    "name": "ipython",
    "version": 3
   },
   "file_extension": ".py",
   "mimetype": "text/x-python",
   "name": "python",
   "nbconvert_exporter": "python",
   "pygments_lexer": "ipython3",
   "version": "3.7.1"
  }
 },
 "nbformat": 4,
 "nbformat_minor": 4
}
